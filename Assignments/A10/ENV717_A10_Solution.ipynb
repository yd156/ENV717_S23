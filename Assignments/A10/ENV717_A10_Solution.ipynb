{
  "cells": [
    {
      "cell_type": "markdown",
      "metadata": {
        "id": "view-in-github",
        "colab_type": "text"
      },
      "source": [
        "<a href=\"https://colab.research.google.com/github/dpatinoecheverri/ENV717_S23/blob/main/Assignments/A10/ENV717_A10_Solution.ipynb\" target=\"_parent\"><img src=\"https://colab.research.google.com/assets/colab-badge.svg\" alt=\"Open In Colab\"/></a>"
      ]
    },
    {
      "cell_type": "markdown",
      "metadata": {
        "id": "7kuiMl6Y4DoE"
      },
      "source": [
        "#Assignment 10\n",
        "##ENV717- Spring 2023\n",
        "---\n",
        "\n",
        "Instructor: [Dalia Patino-Echeverri](mailto:dalia.patino@duke.edu)\n",
        "\n",
        "Author(s): [Dalia Patino-Echeverri](mailto:dalia.patino@duke.edu), [Mauricio Hernandez](mailto:mmh54@duke.edu), [Abbhijith Hari](mailto:ah580@duke.edu)\n",
        "\n",
        "\n",
        "[Github repository](https://github.com/dpatinoecheverri/ENV717_S23)"
      ]
    },
    {
      "cell_type": "markdown",
      "metadata": {
        "id": "foNBqnZAUORA"
      },
      "source": [
        "\n",
        "#1.\t(25%) \n",
        "Develop a Transmission constrained Economic Dispatch Model in Python Pyomo to solve problem 6.6. of the textbook. Submit a knitted HTML file to SAKAI.\n"
      ]
    },
    {
      "cell_type": "markdown",
      "metadata": {
        "id": "2_7-TSbj8_MT"
      },
      "source": [
        "<img src=\"https://drive.google.com/uc?export=view&id=1-00sJ7wEGDg_CoDKqwTxwF91meBIysZY\"  width=\"50%\" height=\"50%\">"
      ]
    },
    {
      "cell_type": "markdown",
      "source": [],
      "metadata": {
        "id": "M-rRfjfFXm1p"
      }
    },
    {
      "cell_type": "code",
      "execution_count": null,
      "metadata": {
        "colab": {
          "base_uri": "https://localhost:8080/"
        },
        "id": "QXPl6Wfnb_zO",
        "outputId": "e3300b37-2b47-496e-baca-1ae63d70fe89"
      },
      "outputs": [
        {
          "output_type": "stream",
          "name": "stdout",
          "text": [
            "Looking in indexes: https://pypi.org/simple, https://us-python.pkg.dev/colab-wheels/public/simple/\n",
            "Requirement already satisfied: pyomo in /usr/local/lib/python3.9/dist-packages (6.5.0)\n",
            "Requirement already satisfied: ply in /usr/local/lib/python3.9/dist-packages (from pyomo) (3.11)\n"
          ]
        }
      ],
      "source": [
        "# Inporting Libraries\n",
        "import shutil\n",
        "import sys\n",
        "import os\n",
        "import pandas as pd \n",
        "import numpy as np\n",
        "import matplotlib.pyplot as plt\n",
        "import numpy as np\n",
        "\n",
        "!pip install pyomo\n",
        "!apt-get install -y -qq glpk-utils\n",
        "\n",
        "from pyomo.environ import *"
      ]
    },
    {
      "cell_type": "code",
      "execution_count": null,
      "metadata": {
        "colab": {
          "base_uri": "https://localhost:8080/"
        },
        "id": "SwZYdcPNxu5j",
        "outputId": "72a68284-9497-4fd5-b4dd-96588054affe"
      },
      "outputs": [
        {
          "output_type": "stream",
          "name": "stdout",
          "text": [
            "Drive already mounted at /content/gdrive; to attempt to forcibly remount, call drive.mount(\"/content/gdrive\", force_remount=True).\n"
          ]
        }
      ],
      "source": [
        "#Connect to google drive\n",
        "from google.colab import drive\n",
        "drive.mount('/content/gdrive')\n",
        "#save path\n",
        "#access path where notebook is stored\n",
        "path = \"/content/gdrive/MyDrive/ENV717-S2023/A10/\"\n",
        "#Change the working directory to the folder\n",
        "os.chdir(path)"
      ]
    },
    {
      "cell_type": "markdown",
      "metadata": {
        "id": "OQouC8VHLd-7"
      },
      "source": [
        "### Read Data"
      ]
    },
    {
      "cell_type": "code",
      "execution_count": null,
      "metadata": {
        "id": "l_kp2q7oVPw4"
      },
      "outputs": [],
      "source": [
        "#Read data\n",
        "df_gens = pd.read_excel(io=\"A10_Q1_Data.xlsx\", sheet_name=\"GenData\") #read data from generators \n",
        "df_loads = pd.read_excel(io=\"A10_Q1_Data.xlsx\", sheet_name=\"LoadData\") #read data from loads tab \n",
        "df_lines = pd.read_excel(io=\"A10_Q1_Data.xlsx\", sheet_name=\"LineData\") #read data from line"
      ]
    },
    {
      "cell_type": "code",
      "execution_count": null,
      "metadata": {
        "colab": {
          "base_uri": "https://localhost:8080/"
        },
        "id": "KWfdx0eKVdqV",
        "outputId": "fdbcc238-4294-42aa-d44c-defa1fa3a7b0"
      },
      "outputs": [
        {
          "output_type": "stream",
          "name": "stdout",
          "text": [
            "We read data for 4 power generating units\n",
            "We read data for 3 nodes\n",
            "We read data for 3 transmission lines\n"
          ]
        }
      ],
      "source": [
        "#define the size of the sets\n",
        "num_gens = len(df_gens)\n",
        "num_nodes = len(df_loads)\n",
        "num_lines = len(df_lines)\n",
        "\n",
        "print(\"We read data for {} power generating units\".format(num_gens))\n",
        "print(\"We read data for\", num_nodes, \"nodes\")\n",
        "print(\"We read data for\", num_lines, \"transmission lines\")"
      ]
    },
    {
      "cell_type": "markdown",
      "source": [
        "**Define Indexes**"
      ],
      "metadata": {
        "id": "VnXmtSWAOtnp"
      }
    },
    {
      "cell_type": "code",
      "execution_count": null,
      "metadata": {
        "id": "0Z-PpfBaVj9L"
      },
      "outputs": [],
      "source": [
        "#Define Indexes\n",
        "\n",
        "G = np.array([g for g in range(0, num_gens)]) \n",
        "N = np.array([n for n in range(0, num_nodes)])\n",
        "L = np.array([l for l in range(0, num_lines)])"
      ]
    },
    {
      "cell_type": "markdown",
      "source": [
        "### Organize Network Data: Generators, Lines, and Loads\n",
        "**Generators Information**"
      ],
      "metadata": {
        "id": "wIwhFpv5P_Mb"
      }
    },
    {
      "cell_type": "code",
      "execution_count": null,
      "metadata": {
        "colab": {
          "base_uri": "https://localhost:8080/"
        },
        "id": "s5joIKFjVm-J",
        "outputId": "09848bec-dd7f-46d8-a36b-573d6b17eb26"
      },
      "outputs": [
        {
          "output_type": "execute_result",
          "data": {
            "text/plain": [
              "Index(['generator', 'capacity', 'cost_mwh', 'node'], dtype='object')"
            ]
          },
          "metadata": {},
          "execution_count": 34
        }
      ],
      "source": [
        "df_gens.columns"
      ]
    },
    {
      "cell_type": "code",
      "execution_count": null,
      "metadata": {
        "id": "XkTAumfWVrr-"
      },
      "outputs": [],
      "source": [
        "##Declare the generator's parameters and assign them the data we read before\n",
        "cost_mwh = df_gens.loc[:,'cost_mwh'].to_numpy()\n",
        "pmax = df_gens.loc[:,'capacity'].to_numpy()\n",
        "gen_node = df_gens.loc[:,'node'].to_numpy()"
      ]
    },
    {
      "cell_type": "markdown",
      "source": [
        "**Lines Information**\n",
        "\n",
        "In the data there are three lines defined as: L1-L2, L2-L3, and L3-L1. "
      ],
      "metadata": {
        "id": "8s2trxQMQNH5"
      }
    },
    {
      "cell_type": "code",
      "execution_count": null,
      "metadata": {
        "colab": {
          "base_uri": "https://localhost:8080/"
        },
        "id": "37FcIpz7Wb_Y",
        "outputId": "1fd52297-cba6-4df4-ef5f-e07ff210721c"
      },
      "outputs": [
        {
          "output_type": "execute_result",
          "data": {
            "text/plain": [
              "Index(['flow', 'reactance', 'line_capacity', 'from_node', 'to_node'], dtype='object')"
            ]
          },
          "metadata": {},
          "execution_count": 36
        }
      ],
      "source": [
        "df_lines.columns"
      ]
    },
    {
      "cell_type": "code",
      "execution_count": null,
      "metadata": {
        "id": "EoJ8lG_PWekL"
      },
      "outputs": [],
      "source": [
        "##Declare the transmission lines' parameters and assign them the data we read before\n",
        "node_from = df_lines.loc[:,'from_node'].to_numpy()\n",
        "node_to = df_lines.loc[:,'to_node'].to_numpy()\n",
        "line_react = df_lines.loc[:,'reactance'].to_numpy()\n",
        "line_capac = df_lines.loc[:,'line_capacity'].to_numpy()"
      ]
    },
    {
      "cell_type": "markdown",
      "source": [
        "**Loads Information**"
      ],
      "metadata": {
        "id": "y3MMz6LSQC98"
      }
    },
    {
      "cell_type": "code",
      "execution_count": null,
      "metadata": {
        "colab": {
          "base_uri": "https://localhost:8080/"
        },
        "id": "nK2XNS_uWjDy",
        "outputId": "c74a4448-b8c5-489f-8aef-d5f620fc8d6a"
      },
      "outputs": [
        {
          "output_type": "execute_result",
          "data": {
            "text/plain": [
              "Index(['node', 'load'], dtype='object')"
            ]
          },
          "metadata": {},
          "execution_count": 40
        }
      ],
      "source": [
        "df_loads.columns"
      ]
    },
    {
      "cell_type": "code",
      "execution_count": null,
      "metadata": {
        "id": "ta3SVd93WjGY"
      },
      "outputs": [],
      "source": [
        "##Declare the loads' parameters and assign them the data read\n",
        "load_bus = df_loads.loc[:,'node'].to_numpy()\n",
        "demand = df_loads.loc[:,'load'].to_numpy()"
      ]
    },
    {
      "cell_type": "code",
      "execution_count": null,
      "metadata": {
        "id": "a5PxQ6mMWjJL"
      },
      "outputs": [],
      "source": [
        "#Define a function IndicatorMatrix that \n",
        "def IndicatorMatrix(nrows, ncols, data_rows):\n",
        "  '''\n",
        "  Creates indicator matrix to relate generators with their node and lines with \n",
        "  the nodesdataRows is a column vector of NumRows rows. Each element says the \n",
        "  column where this row should be a one in the final matrix\n",
        "  '''\n",
        "  matrix = np.zeros((nrows, ncols), dtype=int)\n",
        "  for i in range(0,nrows):\n",
        "      matrix[i,data_rows[i]-1]=1\n",
        "  return matrix"
      ]
    },
    {
      "cell_type": "markdown",
      "source": [
        "**Create Indicator Matrices**"
      ],
      "metadata": {
        "id": "0Nwn3V32SfGl"
      }
    },
    {
      "cell_type": "code",
      "execution_count": null,
      "metadata": {
        "id": "4TKGr3VNWnrW"
      },
      "outputs": [],
      "source": [
        "#Indicator Matrix of G rows and N columns.\n",
        "#It has 1 in the position g,n if generator g is AT node N, 0 otherwise\n",
        "mat_gens_in_bus = IndicatorMatrix(num_gens, num_nodes, gen_node)\n",
        "\n",
        "#Indicator matrix of L rows and N columns. \n",
        "# It has 1 in the position l,n if line l departs FROM node N, 0 otherwise\n",
        "mat_line_from_bus = IndicatorMatrix(num_lines, num_nodes, node_from)\n",
        "\n",
        "#Indicator matrix of L rows and N columns.\n",
        "#It has 1 in the position l,n if line l arrives TO node N, 0 otherwise\n",
        "mat_line_to_bus = IndicatorMatrix(num_lines, num_nodes, node_to)"
      ]
    },
    {
      "cell_type": "markdown",
      "metadata": {
        "id": "HVa9DG4hXYwY"
      },
      "source": [
        "**Instead of reading the information from Excel, we can could enter all the information directly to the python variables. Not recommended if the network is big.**"
      ]
    },
    {
      "cell_type": "code",
      "execution_count": null,
      "metadata": {
        "id": "xZY2noBDVKoW"
      },
      "outputs": [],
      "source": [
        "#This information can be stored and read from a file\n",
        "num_gens = 4\n",
        "num_nodes = 3\n",
        "num_lines = 3\n",
        "\n",
        "cost_mwh = [12, 15, 10, 8]\n",
        "MaxGenCapac = [150, 200, 150, 400]\n",
        "#Gens = ['GA', 'GB', 'GC', 'GD']\n",
        "\n",
        "G = np.array([g for g in range(0,num_gens)]) \n",
        "N = np.array([n for n in range(0,num_nodes)])\n",
        "L = np.array([l for l in range(0,num_lines)])\n",
        "\n",
        "demand = [400, 80, 40]\n",
        "line_react = np.array([0.2, 0.3, 0.3])\n",
        "line_capac = np.array([250, 250, 250])\n",
        "\n",
        "mat_line_from_bus = np.array([[1,0,0],[0,1,0], [0,0,1]])\n",
        "mat_line_to_bus = np.array([[0,1,0],[0,0,1], [1,0,0]])\n",
        "mat_gens_in_bus = np.array([[0,1,0], [1,0,0], [0,0,1], [0,0,1]])"
      ]
    },
    {
      "cell_type": "markdown",
      "metadata": {
        "id": "K2u_RTZq4fk7"
      },
      "source": [
        "### Defining the Economic Dispatch Model"
      ]
    },
    {
      "cell_type": "markdown",
      "source": [
        "$$\n",
        "\\begin{equation}\n",
        "\\begin{aligned}\n",
        "\\min_{p_g, f_{n,m}} \\quad & \\sum_{g=1}^{G}C_gp_g\\\\\n",
        "\\textrm{s.t.} \\quad & \\sum_g p_g = \\sum_{d}P_d^{D}\\\\\n",
        "  &0 \\leq p_g \\leq P_g^{max} \\quad ∀ g \\\\\n",
        "  & -F_{n,m} \\leq f_{n,m} \\leq F_{n,m} \\quad \\forall n, \\forall m \\in \\Omega_n \\\\\n",
        "  &\\sum_{m\\in Ω_n}X_{n,m}f_{n,m} = 0 \\quad \\forall n\\\\\n",
        "  &\\sum_{d \\in \\Psi_n}P_d^{D} + \\sum_{m \\in \\Omega_n}f_{n,m} - \\sum_{g\\in \\Psi_n}p_g =0 \\quad \\forall n\n",
        "\\end{aligned}\n",
        "\\end{equation}\n",
        "$$"
      ],
      "metadata": {
        "id": "hVJ0EHJog-yp"
      }
    },
    {
      "cell_type": "code",
      "execution_count": null,
      "metadata": {
        "id": "kgmch0GfU4Le"
      },
      "outputs": [],
      "source": [
        "#optimization model definition\n",
        "def ED_Model():\n",
        "  m=ConcreteModel()\n",
        "\n",
        "  #Declaring Parameters\n",
        "  m.Cost = Set(initialize = cost_mwh)\n",
        "  m.Gen = Set(initialize = G)\n",
        "  m.L = Set(initialize = L)\n",
        "  m.N = Set(initialize = N)\n",
        "  \n",
        "  #Create a 'dual' suffix component on the instance, so the solver plugin will \n",
        "  #know which suffixes to collect\n",
        "  m.dual = Suffix(direction = Suffix.IMPORT) \n",
        "\n",
        "  #Declaring Decision Variables\n",
        "  m.p = Var(m.Gen, domain= PositiveReals)\n",
        "  m.flow = Var(m.L, bounds = (-max(line_capac), max(line_capac))) #This is power flow on a line\n",
        "  \n",
        "  #Declaring Constraints\n",
        "  m.max_gen_constr = Constraint(m.Gen, rule=lambda m, g:  m.p[g] <= pmax[g])\n",
        "  #Note that in the data we defined the lines L1-2, L2-3, and L3,1 . That way the coefficient of each one in the KVL loop is positive 1.\n",
        "  m.kvl_loop_constr = Constraint(rule=lambda m: sum(line_react[l]*m.flow[l] for l in L)==0) \n",
        "  m.node_balance_constr = Constraint(m.N, rule=lambda m, n: sum(mat_line_to_bus[l,n]*m.flow[l] for l in L) - \n",
        "                                           sum(mat_line_from_bus[l,n]*m.flow[l] for l in L) + \n",
        "                                           sum(mat_gens_in_bus[g,n]*m.p[g] for g in G) == demand[n])\n",
        "  m.max_flow_const=Constraint(m.L, rule=lambda m, l:  m.flow[l] <= line_capac[l])\n",
        "  m.max_counter_flow_const=Constraint(m.L, rule=lambda m, l:  m.flow[l] >= -line_capac[l])\n",
        "\n",
        "  #Objective Function\n",
        "  m.system_cost=Objective(expr=sum(m.p[g]*cost_mwh[g] for g in m.Gen), sense=minimize)\n",
        "\n",
        "  return m\n"
      ]
    },
    {
      "cell_type": "markdown",
      "metadata": {
        "id": "BAO3-0wJ1bxY"
      },
      "source": [
        "### Solving the Optimization Problem"
      ]
    },
    {
      "cell_type": "code",
      "execution_count": null,
      "metadata": {
        "colab": {
          "base_uri": "https://localhost:8080/"
        },
        "id": "sBknuKWf3Lxw",
        "outputId": "d5bb13a9-7da4-47ea-f1ba-648c5c39b548"
      },
      "outputs": [
        {
          "output_type": "stream",
          "name": "stdout",
          "text": [
            "# ==========================================================\n",
            "# = Solver Results                                         =\n",
            "# ==========================================================\n",
            "# ----------------------------------------------------------\n",
            "#   Problem Information\n",
            "# ----------------------------------------------------------\n",
            "Problem: \n",
            "- Name: unknown\n",
            "  Lower bound: 4560.0\n",
            "  Upper bound: 4560.0\n",
            "  Number of objectives: 1\n",
            "  Number of constraints: 15\n",
            "  Number of variables: 8\n",
            "  Number of nonzeros: 24\n",
            "  Sense: minimize\n",
            "# ----------------------------------------------------------\n",
            "#   Solver Information\n",
            "# ----------------------------------------------------------\n",
            "Solver: \n",
            "- Status: ok\n",
            "  Termination condition: optimal\n",
            "  Statistics: \n",
            "    Branch and bound: \n",
            "      Number of bounded subproblems: 0\n",
            "      Number of created subproblems: 0\n",
            "  Error rc: 0\n",
            "  Time: 0.016998291015625\n",
            "# ----------------------------------------------------------\n",
            "#   Solution Information\n",
            "# ----------------------------------------------------------\n",
            "Solution: \n",
            "- number of solutions: 0\n",
            "  number of solutions displayed: 0\n"
          ]
        }
      ],
      "source": [
        "m = ED_Model()\n",
        "\n",
        "SolverFactory('glpk', executable='/usr/bin/glpsol').solve(m).write() # Instead of this line, write \"opt.solve(m)\" if model's details are not important"
      ]
    },
    {
      "cell_type": "markdown",
      "source": [
        "### Presenting Main Results"
      ],
      "metadata": {
        "id": "umegdF79XfWN"
      }
    },
    {
      "cell_type": "code",
      "execution_count": null,
      "metadata": {
        "colab": {
          "base_uri": "https://localhost:8080/"
        },
        "id": "RMvI3b22xx_T",
        "outputId": "a4f97ce1-8fd7-47e5-c2c9-473bdce2d233"
      },
      "outputs": [
        {
          "output_type": "stream",
          "name": "stdout",
          "text": [
            "SOLUTION\n",
            "System cost = $4560.0\n",
            "--------------------------------------------\n",
            "Power generated by unit in MW\n",
            "Generator  1 = 80 \n",
            "Generator  2 = 0 \n",
            "Generator  3 = 40 \n",
            "Generator  4 = 400 \n",
            "--------------------------------------------\n",
            "Flow on transmission lines in MW\n",
            "Line  1 = -150 \n",
            "Line  2 = -150 \n",
            "Line  3 = 250 \n",
            "--------------------------------------------\n",
            "LMPs in $/MWh\n",
            "Node  1 = 13.33\n",
            "Node  2 = 12.00\n",
            "Node  3 = 10.00\n"
          ]
        }
      ],
      "source": [
        "print('SOLUTION')\n",
        "print('System cost = ${:}'.format(m.system_cost()))\n",
        "print(\"--------------------------------------------\")\n",
        "print('Power generated by unit in MW')\n",
        "for g in G:\n",
        "  print(\"Generator {0:2d} = {1:.0f} \".format(g+1, m.p[g]()))\n",
        "print(\"--------------------------------------------\")\n",
        "print('Flow on transmission lines in MW')\n",
        "\n",
        "for l in L:\n",
        "  print(\"Line {0:2d} = {1:.0f} \".format(l+1, m.flow[l]()))\n",
        "print(\"--------------------------------------------\")\n",
        "print('LMPs in $/MWh')\n",
        "for n in N:\n",
        "  print(\"Node {0:2d} = {1:.2f}\".format(n+1, m.dual[m.node_balance_constr[n]]))"
      ]
    },
    {
      "cell_type": "code",
      "execution_count": null,
      "metadata": {
        "colab": {
          "base_uri": "https://localhost:8080/"
        },
        "id": "7KStYIRomqn6",
        "outputId": "6560bfd2-ab98-4511-b39a-5992fcc80c8a"
      },
      "outputs": [
        {
          "output_type": "stream",
          "name": "stdout",
          "text": [
            "[NbConvertApp] Converting notebook /content/gdrive/MyDrive/ENV717-S2023/A10/ENV717_A10_Solution.ipynb to html\n",
            "[NbConvertApp] Writing 643694 bytes to /content/gdrive/MyDrive/ENV717-S2023/A10/ENV717_A10_Solution.html\n"
          ]
        },
        {
          "output_type": "execute_result",
          "data": {
            "text/plain": []
          },
          "metadata": {},
          "execution_count": 55
        }
      ],
      "source": [
        "%%shell\n",
        "jupyter nbconvert --to html \"/content/gdrive/MyDrive/ENV717-S2023/A10/ENV717_A10_Solution.ipynb\""
      ]
    }
  ],
  "metadata": {
    "colab": {
      "provenance": [],
      "include_colab_link": true
    },
    "kernelspec": {
      "display_name": "Python 3",
      "name": "python3"
    },
    "language_info": {
      "name": "python"
    }
  },
  "nbformat": 4,
  "nbformat_minor": 0
}
