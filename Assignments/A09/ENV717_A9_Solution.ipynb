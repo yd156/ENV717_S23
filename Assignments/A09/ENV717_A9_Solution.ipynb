{
  "cells": [
    {
      "cell_type": "markdown",
      "metadata": {
        "id": "view-in-github",
        "colab_type": "text"
      },
      "source": [
        "<a href=\"https://colab.research.google.com/github/dpatinoecheverri/ENV717_S23/blob/main/Assignments/A09/ENV717_A9_Solution.ipynb\" target=\"_parent\"><img src=\"https://colab.research.google.com/assets/colab-badge.svg\" alt=\"Open In Colab\"/></a>"
      ]
    },
    {
      "cell_type": "markdown",
      "metadata": {
        "id": "7kuiMl6Y4DoE"
      },
      "source": [
        "#Assignment 9\n",
        "##ENV717- Spring 2023\n",
        "---\n",
        "\n",
        "Instructor: [Dalia Patino-Echeverri](mailto:dalia.patino@duke.edu)\n",
        "\n",
        "Author(s): [Dalia Patino-Echeverri](mailto:dalia.patino@duke.edu), [Mauricio Hernandez](mailto:mmh54@duke.edu), [Abbhijith Hari](mailto:ah580@duke.edu)\n",
        "\n",
        "\n",
        "[Github repository](https://github.com/dpatinoecheverri/ENV717_S23)"
      ]
    },
    {
      "cell_type": "markdown",
      "metadata": {
        "id": "foNBqnZAUORA"
      },
      "source": [
        "#2. (15%) \n",
        "\n",
        "Use excel-solver to find a solution to the LP formulated in 1, and report the following:\n",
        "\n",
        "a. Pi = net power injection at each bus (negative means there is a net power withdrawal), i=1,2,3. <br>\n",
        "b. Gg: power generation from each generator g, g=1,2,3,4. <br>\n",
        "c. fij: power flow on the transmission line connecting node i to node j, in the direction from i to j. (negative means the power flows in the opposite direction).<br>\n",
        "d. LMPi: Locational Marginal Price at bus i. (\\$/MWh)<br>\n",
        "e. Merchandising surplus in \\$.<br>\n",
        "f. Interpretation of the allowable increase and decrease for the LMPs of each bus\n"
      ]
    },
    {
      "cell_type": "markdown",
      "source": [
        "![three bus system](https://drive.google.com/uc?export=view&id=1-00sJ7wEGDg_CoDKqwTxwF91meBIysZY)"
      ],
      "metadata": {
        "id": "2_7-TSbj8_MT"
      }
    },
    {
      "cell_type": "code",
      "execution_count": 92,
      "metadata": {
        "colab": {
          "base_uri": "https://localhost:8080/"
        },
        "id": "QXPl6Wfnb_zO",
        "outputId": "f47f34dd-4be5-44d5-b6dd-d883157a0d43"
      },
      "outputs": [
        {
          "output_type": "stream",
          "name": "stdout",
          "text": [
            "Looking in indexes: https://pypi.org/simple, https://us-python.pkg.dev/colab-wheels/public/simple/\n",
            "Requirement already satisfied: pyomo in /usr/local/lib/python3.9/dist-packages (6.5.0)\n",
            "Requirement already satisfied: ply in /usr/local/lib/python3.9/dist-packages (from pyomo) (3.11)\n"
          ]
        }
      ],
      "source": [
        "import shutil\n",
        "import sys\n",
        "import os\n",
        "import pandas as pd \n",
        "import numpy as np\n",
        "import matplotlib.pyplot as plt\n",
        "import numpy as np\n",
        "\n",
        "!pip install pyomo\n",
        "#4. Install the solver\n",
        "!apt-get install -y -qq glpk-utils\n",
        "\n",
        "from pyomo.environ import *"
      ]
    },
    {
      "cell_type": "code",
      "execution_count": 93,
      "metadata": {
        "colab": {
          "base_uri": "https://localhost:8080/"
        },
        "id": "SwZYdcPNxu5j",
        "outputId": "4b90bcb2-e72a-4e54-f9e1-91d1da062c8e"
      },
      "outputs": [
        {
          "output_type": "stream",
          "name": "stdout",
          "text": [
            "Drive already mounted at /content/gdrive; to attempt to forcibly remount, call drive.mount(\"/content/gdrive\", force_remount=True).\n"
          ]
        }
      ],
      "source": [
        "#Connect to google drive\n",
        "from google.colab import drive\n",
        "drive.mount('/content/gdrive')\n",
        "#save path\n",
        "#access path where notebook is stored\n",
        "path = \"/content/gdrive/MyDrive/ENV717-S2023/A09/\"\n",
        "#Change the working directory to the folder\n",
        "os.chdir(path)"
      ]
    },
    {
      "cell_type": "code",
      "execution_count": 94,
      "metadata": {
        "id": "xZY2noBDVKoW"
      },
      "outputs": [],
      "source": [
        "NumNodes = 3\n",
        "NumLines = 3\n",
        "NumGens = 4\n",
        "\n",
        "CostMWH = [12, 15, 10, 8]\n",
        "MaxGenCapac = [150, 200, 150, 400]\n",
        "#Gens = ['GA', 'GB', 'GC', 'GD']\n",
        "G=np.array([g for g in range(0,NumGens)]) \n",
        "N=np.array([n for n in range(0,NumNodes)])\n",
        "L=np.array([l for l in range(0,NumLines)])\n",
        "Demand = [400, 80, 40]\n",
        "\n",
        "LineFromBus = np.array([[1,0,0],[0,1,0], [0,0,1]])\n",
        "LineToBus = np.array([[0,1,0],[0,0,1], [1,0,0]])\n",
        "GeneratorInBus = np.array([[0,1,0], [1,0,0], [0,0,1], [0,0,1]])\n",
        "LineReactance = np.array([0.2, 0.3, 0.3])\n",
        "LineCapacity = np.array([250, 250, 250])"
      ]
    },
    {
      "cell_type": "markdown",
      "source": [
        "### Defining the Economic Dispatch Model"
      ],
      "metadata": {
        "id": "K2u_RTZq4fk7"
      }
    },
    {
      "cell_type": "code",
      "execution_count": 95,
      "metadata": {
        "id": "kgmch0GfU4Le"
      },
      "outputs": [],
      "source": [
        "#optimization model definition\n",
        "def ed_model():\n",
        "  lp=ConcreteModel()\n",
        "  #Declaring Parameters\n",
        "  lp.Cost = Set(initialize = CostMWH)\n",
        "  lp.Gen = Set(initialize = G)\n",
        "  lp.L=Set(initialize=L)\n",
        "  lp.N=Set(initialize=N)\n",
        "  lp.dual = Suffix(direction=Suffix.IMPORT) #Create a 'dual' suffix component on the instance so the solver plugin will know which suffixes to collect\n",
        "\n",
        "  #Declaring Decision Variables\n",
        "  lp.p = Var(lp.Gen, domain= PositiveReals)\n",
        "  lp.flow=Var(lp.L, bounds = (-max(LineCapacity), max(LineCapacity))) #This is power flow on a line\n",
        "  #Constraints\n",
        "  lp.MaxGenConst = Constraint(lp.Gen, rule=lambda lp, g:  lp.p[g] <= MaxGenCapac[g])\n",
        "  #Note that in the data we defined the lines L1-2, L2-3, and L3,1 . That way the coefficient of each one in the KVL loop is positive 1.\n",
        "  lp.KVLAroundLoopConstraint=Constraint(rule=lambda lp: sum(LineReactance[l]*lp.flow[l] for l in L)==0) \n",
        "  lp.NodePowerBalanceConstraint=Constraint(lp.N, rule=lambda lp, n: sum(LineToBus[l,n]*lp.flow[l] for l in L) - \n",
        "                                           sum(LineFromBus[l,n]*lp.flow[l] for l in L) + \n",
        "                                           sum(GeneratorInBus[g,n]*lp.p[g] for g in G) == Demand[n])\n",
        "  lp.MaxFlow=Constraint(lp.L, rule=lambda lp, l:  lp.flow[l] <= LineCapacity[l])\n",
        "  lp.MaxCounterFlow=Constraint(lp.L, rule=lambda lp, l:  lp.flow[l] >= -LineCapacity[l])\n",
        "  #Objective Function\n",
        "  lp.system_cost=Objective(expr=sum(lp.p[g]*CostMWH[g] for g in lp.Gen), sense=minimize)\n",
        "\n",
        "  return lp"
      ]
    },
    {
      "cell_type": "markdown",
      "source": [
        "### Solving the optimization problem"
      ],
      "metadata": {
        "id": "BAO3-0wJ1bxY"
      }
    },
    {
      "cell_type": "code",
      "source": [
        "m = ed_model()\n",
        "\n",
        "SolverFactory('glpk', executable='/usr/bin/glpsol').solve(m).write() # Instead of this line, write \"opt.solve(m)\" if model's details are not important"
      ],
      "metadata": {
        "colab": {
          "base_uri": "https://localhost:8080/"
        },
        "id": "sBknuKWf3Lxw",
        "outputId": "50d64a37-34c8-476c-9554-97f856718dd0"
      },
      "execution_count": 96,
      "outputs": [
        {
          "output_type": "stream",
          "name": "stdout",
          "text": [
            "# ==========================================================\n",
            "# = Solver Results                                         =\n",
            "# ==========================================================\n",
            "# ----------------------------------------------------------\n",
            "#   Problem Information\n",
            "# ----------------------------------------------------------\n",
            "Problem: \n",
            "- Name: unknown\n",
            "  Lower bound: 4560.0\n",
            "  Upper bound: 4560.0\n",
            "  Number of objectives: 1\n",
            "  Number of constraints: 15\n",
            "  Number of variables: 8\n",
            "  Number of nonzeros: 24\n",
            "  Sense: minimize\n",
            "# ----------------------------------------------------------\n",
            "#   Solver Information\n",
            "# ----------------------------------------------------------\n",
            "Solver: \n",
            "- Status: ok\n",
            "  Termination condition: optimal\n",
            "  Statistics: \n",
            "    Branch and bound: \n",
            "      Number of bounded subproblems: 0\n",
            "      Number of created subproblems: 0\n",
            "  Error rc: 0\n",
            "  Time: 0.01616358757019043\n",
            "# ----------------------------------------------------------\n",
            "#   Solution Information\n",
            "# ----------------------------------------------------------\n",
            "Solution: \n",
            "- number of solutions: 0\n",
            "  number of solutions displayed: 0\n"
          ]
        }
      ]
    },
    {
      "cell_type": "code",
      "execution_count": 97,
      "metadata": {
        "colab": {
          "base_uri": "https://localhost:8080/"
        },
        "id": "RMvI3b22xx_T",
        "outputId": "2c54bb7e-f526-4648-f718-fe57626f5489"
      },
      "outputs": [
        {
          "output_type": "stream",
          "name": "stdout",
          "text": [
            "SOLUTION\n",
            "System cost = $4560.0\n",
            "--------------------------------------------\n",
            "Power generated by unit in MW\n",
            "generator  1 = 80 \n",
            "generator  2 = 0 \n",
            "generator  3 = 40 \n",
            "generator  4 = 400 \n",
            "--------------------------------------------\n",
            "Flow on transmission lines in MW\n",
            "line  1 = -150 \n",
            "line  2 = -150 \n",
            "line  3 = 250 \n",
            "--------------------------------------------\n",
            "LMPs in $/MWh\n",
            "Node  1 = 13.33\n",
            "Node  2 = 12.00\n",
            "Node  3 = 10.00\n"
          ]
        }
      ],
      "source": [
        "print('SOLUTION')\n",
        "print('System cost = ${:}'.format(m.system_cost()))\n",
        "print(\"--------------------------------------------\")\n",
        "print('Power generated by unit in MW')\n",
        "for g in G:\n",
        "  print(\"generator {0:2d} = {1:.0f} \".format(g+1, m.p[g]()))\n",
        "print(\"--------------------------------------------\")\n",
        "print('Flow on transmission lines in MW')\n",
        "\n",
        "for l in L:\n",
        "  print(\"line {0:2d} = {1:.0f} \".format(l+1, m.flow[l]()))\n",
        "print(\"--------------------------------------------\")\n",
        "print('LMPs in $/MWh')\n",
        "for n in N:\n",
        "  print(\"Node {0:2d} = {1:.2f}\".format(n+1, m.dual[m.NodePowerBalanceConstraint[n]]))"
      ]
    },
    {
      "cell_type": "code",
      "execution_count": 99,
      "metadata": {
        "colab": {
          "base_uri": "https://localhost:8080/"
        },
        "id": "7KStYIRomqn6",
        "outputId": "95f73023-e33c-4baa-8919-8cda17b61cb5"
      },
      "outputs": [
        {
          "output_type": "stream",
          "name": "stdout",
          "text": [
            "[NbConvertApp] Converting notebook /content/gdrive/MyDrive/ENV717-S2023/A09/ENV717_A9_Solution.ipynb to html\n",
            "[NbConvertApp] Writing 605957 bytes to /content/gdrive/MyDrive/ENV717-S2023/A09/ENV717_A9_Solution.html\n"
          ]
        },
        {
          "output_type": "execute_result",
          "data": {
            "text/plain": []
          },
          "metadata": {},
          "execution_count": 99
        }
      ],
      "source": [
        "%%shell\n",
        "jupyter nbconvert --to html \"/content/gdrive/MyDrive/ENV717-S2023/A09/ENV717_A9_Solution.ipynb\""
      ]
    }
  ],
  "metadata": {
    "colab": {
      "provenance": [],
      "include_colab_link": true
    },
    "kernelspec": {
      "display_name": "Python 3",
      "name": "python3"
    },
    "language_info": {
      "name": "python"
    }
  },
  "nbformat": 4,
  "nbformat_minor": 0
}